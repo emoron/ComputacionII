{
 "cells": [
  {
   "cell_type": "markdown",
   "metadata": {},
   "source": [
    "# Tablas Hash\n",
    "\n",
    "![](http://interactivepython.org/runestone/static/pythonds/_images/quadratic.png)\n",
    "\n",
    "\n",
    "Para implementar almacenar varios valores en la estructura Hash\n",
    "\n",
    "![](http://interactivepython.org/runestone/static/pythonds/_images/chaining.png)\n",
    "\n",
    "\n",
    "\n",
    "\n",
    "\n",
    "El TDA **Map** se define como sigue: La estructura es una colección de asociaciones entrea una llave y un valor. La llave es un **Map** único y solo hay una relacion entre la llave y el valor.\n",
    "\n",
    "* __Map()__ crea un map vacio y regresa una coleccion vacia.\n",
    "* put(llave,valor). Agrega un par nuevo al mapa. Si la llave existe entonces reemplaza el valor anterior\n",
    "* get(key) Regresa el valor de una llave especifica.\n",
    "* del(key) Elimina la llave y el valor proporcionado.\n",
    "* len() Regresa el número de pares llave-valor que estan almacenados en el mapa.\n",
    "\n",
    "En el Return True para cada operación imprime el contenido del mapa de lo contrario regresa Falso.\n"
   ]
  },
  {
   "cell_type": "code",
   "execution_count": 1,
   "metadata": {
    "collapsed": true
   },
   "outputs": [],
   "source": [
    "class HashTable:\n",
    "    def __init__(self):\n",
    "        self.size = 11\n",
    "        self.slots = [None] * self.size\n",
    "        self.data = [None] * self.size\n",
    "        "
   ]
  },
  {
   "cell_type": "code",
   "execution_count": 2,
   "metadata": {
    "collapsed": true
   },
   "outputs": [],
   "source": [
    "def put(self,key,data):\n",
    "  hashvalue = self.hashfunction(key,len(self.slots))\n",
    "\n",
    "  if self.slots[hashvalue] == None:\n",
    "    self.slots[hashvalue] = key\n",
    "    self.data[hashvalue] = data\n",
    "  else:\n",
    "    if self.slots[hashvalue] == key:\n",
    "      self.data[hashvalue] = data  #replace\n",
    "    else:\n",
    "      nextslot = self.rehash(hashvalue,len(self.slots))\n",
    "      while self.slots[nextslot] != None and \\\n",
    "                      self.slots[nextslot] != key:\n",
    "        nextslot = self.rehash(nextslot,len(self.slots))\n",
    "\n",
    "      if self.slots[nextslot] == None:\n",
    "        self.slots[nextslot]=key\n",
    "        self.data[nextslot]=data\n",
    "      else:\n",
    "        self.data[nextslot] = data #replace\n",
    "\n",
    "def hashfunction(self,key,size):\n",
    "     return key%size\n",
    "\n",
    "def rehash(self,oldhash,size):\n",
    "    return (oldhash+1)%size"
   ]
  },
  {
   "cell_type": "code",
   "execution_count": 3,
   "metadata": {
    "collapsed": false
   },
   "outputs": [
    {
     "ename": "AttributeError",
     "evalue": "HashTable instance has no attribute '__setitem__'",
     "output_type": "error",
     "traceback": [
      "\u001b[0;31m---------------------------------------------------------------------------\u001b[0m",
      "\u001b[0;31mAttributeError\u001b[0m                            Traceback (most recent call last)",
      "\u001b[0;32m<ipython-input-3-5ea1628d8da6>\u001b[0m in \u001b[0;36m<module>\u001b[0;34m()\u001b[0m\n\u001b[1;32m      1\u001b[0m \u001b[0mH\u001b[0m\u001b[0;34m=\u001b[0m\u001b[0mHashTable\u001b[0m\u001b[0;34m(\u001b[0m\u001b[0;34m)\u001b[0m\u001b[0;34m\u001b[0m\u001b[0m\n\u001b[0;32m----> 2\u001b[0;31m \u001b[0mH\u001b[0m\u001b[0;34m[\u001b[0m\u001b[0;36m54\u001b[0m\u001b[0;34m]\u001b[0m\u001b[0;34m=\u001b[0m\u001b[0;34m\"cat\"\u001b[0m\u001b[0;34m\u001b[0m\u001b[0m\n\u001b[0m\u001b[1;32m      3\u001b[0m \u001b[0mH\u001b[0m\u001b[0;34m[\u001b[0m\u001b[0;36m26\u001b[0m\u001b[0;34m]\u001b[0m\u001b[0;34m=\u001b[0m\u001b[0;34m\"dog\"\u001b[0m\u001b[0;34m\u001b[0m\u001b[0m\n\u001b[1;32m      4\u001b[0m \u001b[0mH\u001b[0m\u001b[0;34m[\u001b[0m\u001b[0;36m93\u001b[0m\u001b[0;34m]\u001b[0m\u001b[0;34m=\u001b[0m\u001b[0;34m\"lion\"\u001b[0m\u001b[0;34m\u001b[0m\u001b[0m\n\u001b[1;32m      5\u001b[0m \u001b[0mH\u001b[0m\u001b[0;34m[\u001b[0m\u001b[0;36m17\u001b[0m\u001b[0;34m]\u001b[0m\u001b[0;34m=\u001b[0m\u001b[0;34m\"tiger\"\u001b[0m\u001b[0;34m\u001b[0m\u001b[0m\n",
      "\u001b[0;31mAttributeError\u001b[0m: HashTable instance has no attribute '__setitem__'"
     ]
    }
   ],
   "source": [
    "H=HashTable()\n",
    "H[54]=\"cat\"\n",
    "H[26]=\"dog\"\n",
    "H[93]=\"lion\"\n",
    "H[17]=\"tiger\"\n",
    "H[77]=\"bird\"\n",
    "H[31]=\"cow\"\n",
    "H[44]=\"goat\"\n",
    "H[55]=\"pig\"\n",
    "H[20]=\"chicken\"\n",
    "H.slots\n",
    "[77, 44, 55, 20, 26, 93, 17, None, None, 31, 54]\n",
    ">>> H.data\n",
    "['bird', 'goat', 'pig', 'chicken', 'dog', 'lion',\n",
    "       'tiger', None, None, 'cow', 'cat']"
   ]
  },
  {
   "cell_type": "code",
   "execution_count": null,
   "metadata": {
    "collapsed": true
   },
   "outputs": [],
   "source": []
  }
 ],
 "metadata": {
  "kernelspec": {
   "display_name": "Python 2",
   "language": "python",
   "name": "python2"
  },
  "language_info": {
   "codemirror_mode": {
    "name": "ipython",
    "version": 2
   },
   "file_extension": ".py",
   "mimetype": "text/x-python",
   "name": "python",
   "nbconvert_exporter": "python",
   "pygments_lexer": "ipython2",
   "version": "2.7.13"
  }
 },
 "nbformat": 4,
 "nbformat_minor": 2
}
